{
 "cells": [
  {
   "cell_type": "code",
   "execution_count": 17,
   "id": "559a2b72-1d78-46fc-87ff-578ba3226893",
   "metadata": {},
   "outputs": [
    {
     "name": "stderr",
     "output_type": "stream",
     "text": [
      "/tmp/ipykernel_9740/970475090.py:51: RuntimeWarning: divide by zero encountered in true_divide\n",
      "  data.add_column(1/(data[\"OII_3726_EW_IVAR\"]+data[\"OII_3729_EW_IVAR\"]), name='OII_DOUBLET_EW_IVAR')\n"
     ]
    },
    {
     "name": "stdout",
     "output_type": "stream",
     "text": [
      "175903\n"
     ]
    },
    {
     "name": "stderr",
     "output_type": "stream",
     "text": [
      "/tmp/ipykernel_9740/970475090.py:128: RuntimeWarning: invalid value encountered in multiply\n",
      "  snr_all[:,0] = data_train[lines[0]]*np.sqrt(data_train[lines[0]+\"_IVAR\"])\n"
     ]
    }
   ],
   "source": [
    "from astropy.io import fits\n",
    "from astropy.table import Table, join\n",
    "import numpy as np\n",
    "import pylab as plt\n",
    "import random\n",
    "from scipy import stats\n",
    "from sklearn.neighbors import KDTree\n",
    "import time\n",
    "from sklearn.metrics import mean_squared_error\n",
    "from astropy.cosmology import FlatLambdaCDM\n",
    "from os import listdir\n",
    "import scipy\n",
    "from desitarget.targetmask import desi_mask, bgs_mask, mws_mask\n",
    "from desitarget.cmx.cmx_targetmask import cmx_mask\n",
    "\n",
    "server = 1 # 0 is perlmutter, 1 is cori\n",
    "server_paths = ['/pscratch/sd/a/ashodkh/', '/global/cscratch1/sd/ashodkh/']\n",
    "## DATA ##\n",
    "## I'm combining fastphot,fastspect, and ztile to make sure I use the same data everywhere\n",
    "\n",
    "sv = '3'\n",
    "zall_path = \"/global/cfs/cdirs/desi/spectro/redux/fuji/zcatalog/ztile-sv\"+sv+\"-bright-cumulative.fits\"\n",
    "data1 = Table.read(zall_path,hdu=1)\n",
    "needed1 = [\"TARGETID\", \"SV\"+sv+\"_BGS_TARGET\", \"SPECTYPE\", \"DELTACHI2\", \"Z\", \"ZWARN\", \"FIBER\", \"PETAL_LOC\", \"TILEID\"]\n",
    "\n",
    "fastspec_path = \"/global/cfs/cdirs/desi/spectro/fastspecfit/fuji/catalogs/fastspec-fuji-sv\"+sv+\"-bright.fits\"\n",
    "data2 = Table.read(fastspec_path,hdu=1)\n",
    "data2.rename_column('CONTINUUM_COEFF', 'CONTINUUM_COEFF_FASTSPEC')\n",
    "data2.rename_column('CONTINUUM_AV', 'CONTINUUM_AV_FASTSPEC')\n",
    "\n",
    "needed2 = [\"TARGETID\", \"OII_3726_EW\", \"OII_3729_EW\", \"HGAMMA_EW\", \"HBETA_EW\", \"OIII_4959_EW\", \"OIII_5007_EW\", \"NII_6548_EW\", \"HALPHA_EW\", \"NII_6584_EW\", \"SII_6716_EW\", \"SII_6731_EW\",\\\n",
    "           \"FLUX_SYNTH_G\", \"FLUX_SYNTH_R\", \"FLUX_SYNTH_Z\", 'CONTINUUM_COEFF_FASTSPEC', 'CONTINUUM_AV_FASTSPEC',\\\n",
    "           \"OII_3726_EW_IVAR\", \"OII_3729_EW_IVAR\", \"HGAMMA_EW_IVAR\", \"HBETA_EW_IVAR\", \"OIII_4959_EW_IVAR\", \"OIII_5007_EW_IVAR\", \"NII_6548_EW_IVAR\", \"HALPHA_EW_IVAR\", \"NII_6584_EW_IVAR\",\\\n",
    "           \"SII_6716_EW_IVAR\", \"SII_6731_EW_IVAR\"]\n",
    "\n",
    "\n",
    "fastphot_path = \"/global/cfs/cdirs/desi/spectro/fastspecfit/fuji/catalogs/fastphot-fuji-sv\"+sv+\"-bright.fits\"\n",
    "data3 = Table.read(fastphot_path,hdu=1)\n",
    "data3.rename_column('CONTINUUM_COEFF', 'CONTINUUM_COEFF_FASTPHOT')\n",
    "data3.rename_column('CONTINUUM_AV', 'CONTINUUM_AV_FASTPHOT')\n",
    "\n",
    "needed3 = [\"TARGETID\", \"ABSMAG_SDSS_U\", \"ABSMAG_SDSS_G\", \"ABSMAG_SDSS_R\", \"ABSMAG_SDSS_I\", \"ABSMAG_SDSS_Z\", 'CONTINUUM_COEFF_FASTPHOT', 'CONTINUUM_AV_FASTPHOT']\n",
    "\n",
    "data4 = join(data1[needed1], data2[needed2], keys=\"TARGETID\")\n",
    "data = join(data4, data3[needed3], keys=\"TARGETID\")\n",
    "\n",
    "N=len(data['TARGETID'])\n",
    "\n",
    "## Adding the sum of OII doublets to use them as a single line\n",
    "data.add_column(data[\"OII_3726_EW\"]+data[\"OII_3729_EW\"], name='OII_DOUBLET_EW')\n",
    "data.add_column(1/(data[\"OII_3726_EW_IVAR\"]+data[\"OII_3729_EW_IVAR\"]), name='OII_DOUBLET_EW_IVAR')\n",
    "\n",
    "lines = [\"OII_DOUBLET_EW\", \"HGAMMA_EW\", \"HBETA_EW\", \"OIII_4959_EW\", \"OIII_5007_EW\", \"NII_6548_EW\", \"HALPHA_EW\", \"NII_6584_EW\", \"SII_6716_EW\", \"SII_6731_EW\", \"test\"]\n",
    "lines_ivar = [\"OII_DOUBLET_EW_IVAR\", \"HGAMMA_EW_IVAR\", \"HBETA_EW_IVAR\", \"OIII_4959_EW_IVAR\", \"OIII_5007_EW_IVAR\", \"NII_6548_EW_IVAR\", \"HALPHA_EW_IVAR\", \"NII_6584_EW_IVAR\",\\\n",
    "              \"SII_6716_EW_IVAR\", \"SII_6731_EW_IVAR\"]\n",
    "\n",
    "\n",
    "\n",
    "\n",
    "    \n",
    "# calculating minimum redshift to have de-redshifted wavelengths be in the interval w1,w2 A\n",
    "w1 = 3400\n",
    "w_min = 3600\n",
    "z_min = w_min/w1-1\n",
    "w2 = 8500\n",
    "w_max = 9824\n",
    "#z_max = w_max/w2-1\n",
    "z_max = 0.3\n",
    "\n",
    "# target selection index. run should be changed if anything in select changed and/or the number of data points changed\n",
    "run = 1 # old run=0 was sv1 with no bgs selection and n=30k. new run=0 is sv1 with bgs selection. There's only about 25k per line so I will use them for training only.\n",
    "        # run 1 is sv3 with bgs selection. So far I'm only using it for testing so only l=10.\n",
    "\n",
    "## I am splitting data into training and testing before applying snr_cuts, and then saving them separately\n",
    "select = ((data[\"SV\"+sv+\"_BGS_TARGET\"] & bgs_mask.mask(\"BGS_BRIGHT\"))>0)*(data[\"SPECTYPE\"]==\"GALAXY\")*(data[\"DELTACHI2\"]>=25)\\\n",
    "         *(data[\"Z\"]>z_min)*(data[\"Z\"]<z_max)*(data[\"ZWARN\"]==0)\n",
    "\n",
    "select_size = len(np.where(select)[0])\n",
    "print(select_size)\n",
    "data_select = data[select]\n",
    "select_half = int(select_size/2)\n",
    "#select_half = int(select_size-1)\n",
    "data_train = data_select[:select_half]\n",
    "data_test = data_select[select_half:]\n",
    "\n",
    "n_test = 30*10**3 # size of testing set I'm keeping\n",
    "\n",
    "target_ids = data_test[\"TARGETID\"][:n_test]\n",
    "fiber_ids = data_test[\"FIBER\"][:n_test]\n",
    "petal_locs = data_test[\"PETAL_LOC\"][:n_test]\n",
    "tile_ids = data_test[\"TILEID\"][:n_test]\n",
    "zs = data_test[\"Z\"][:n_test]\n",
    "\n",
    "coeffs_fastspec = data_test['CONTINUUM_COEFF_FASTSPEC'][:n_test]\n",
    "AV_fastspec = data_test['CONTINUUM_AV_FASTSPEC'][:n_test]\n",
    "\n",
    "coeffs_fastphot = data_test['CONTINUUM_COEFF_FASTPHOT'][:n_test]\n",
    "AV_fastphot = data_test['CONTINUUM_AV_FASTPHOT'][:n_test]\n",
    "\n",
    "line_ews = np.array(data_test[lines[:-1]][:n_test])\n",
    "line_ivars = np.array(data_test[lines_ivar][:n_test])\n",
    "\n",
    "test = True\n",
    "train = False\n",
    "if test:\n",
    "    l = 10 # l=10 corresponds to test set that has no snr cuts. This is a good way of separating those files without changing much of my code.\n",
    "    np.savez_compressed(server_paths[server]+\"target_selection/target_ids_selection\" + str(run) + \"_\" + str(lines[l]) + \".txt\", target_ids)\n",
    "    np.savez_compressed(server_paths[server]+\"target_selection/fiber_ids_selection\" + str(run) + \"_\" + str(lines[l]) + \".txt\", fiber_ids)\n",
    "    np.savez_compressed(server_paths[server]+\"target_selection/petal_locs_selection\" + str(run) + \"_\" + str(lines[l]) + \".txt\", petal_locs)\n",
    "    np.savez_compressed(server_paths[server]+\"target_selection/tile_ids_selection\" + str(run) + \"_\" + str(lines[l]) + \".txt\", tile_ids)\n",
    "    np.savez_compressed(server_paths[server]+\"target_selection/zs_selection\" + str(run) + \"_\" + str(lines[l]) + \".txt\", zs)\n",
    "    np.savez_compressed(server_paths[server]+\"target_selection/line_ews_selection\"+str(run)+\"_\" + str(lines[l]) + \".txt\", line_ews)\n",
    "    np.savez_compressed(server_paths[server]+\"target_selection/line_ivars_selection\"+str(run)+\"_\" + str(lines[l]) + \".txt\", line_ivars)\n",
    "\n",
    "    np.savez_compressed(server_paths[server]+\"target_selection/fastspec_coeffs_selection\" + str(run) + \"_\" + str(lines[l]) + \".txt\", coeffs_fastspec)\n",
    "    np.savez_compressed(server_paths[server]+\"target_selection/fastspec_AV_selection\" + str(run) + \"_\" + str(lines[l]) + \".txt\", AV_fastspec)\n",
    "\n",
    "    np.savez_compressed(server_paths[server]+\"target_selection/fastphot_coeffs_selection\" + str(run) + \"_\" + str(lines[l]) + \".txt\", coeffs_fastphot)\n",
    "    np.savez_compressed(server_paths[server]+\"target_selection/fastphot_AV_selection\" + str(run) + \"_\" + str(lines[l]) + \".txt\", AV_fastphot)\n",
    "\n",
    "\n",
    "lines = [\"OII_DOUBLET_EW\", \"HGAMMA_EW\", \"HBETA_EW\", \"OIII_4959_EW\", \"OIII_5007_EW\", \"NII_6548_EW\", \"HALPHA_EW\", \"NII_6584_EW\", \"SII_6716_EW\", \"SII_6731_EW\"]\n",
    "## choosing what snr cuts to make on data_train\n",
    "N = len(data_train['TARGETID'])\n",
    "snr_cut = 1\n",
    "# calculating snr for all lines and setting the snr cut boolean as select_snr\n",
    "snr_all = np.zeros([N,len(lines)])\n",
    "snr_all[:,0] = data_train[lines[0]]*np.sqrt(data_train[lines[0]+\"_IVAR\"])\n",
    "\n",
    "cut_Halpha = True # cut Halpha on all data and later cut snr>0 for every line separately\n",
    "cut_all = False # cut on all lines together, which extremely restricts the data\n",
    "for i in range(1,len(lines)):\n",
    "    snr_all[:,i]=data_train[lines[i]]*np.sqrt(data_train[lines[i]+\"_IVAR\"])\n",
    "    if cut_all:\n",
    "        select_snr = select_snr*(snr_all[:,i]>snr_cut)\n",
    "if cut_Halpha:\n",
    "    select_snr = snr_all[:,6]>snr_cut\n",
    "\n",
    "\n",
    "if train:\n",
    "    for l in range(len(lines)):\n",
    "        # select = ((data[\"SV3_BGS_TARGET\"] & bgs_mask.mask(\"BGS_BRIGHT\"))>0)*(data[\"SPECTYPE\"]==\"GALAXY\")*(data[\"DELTACHI2\"]>=25)\\\n",
    "        #          *(data[\"Z\"]>z_min)*(data[\"Z\"]<z_max)*(data[\"ZWARN\"]==0)*(select_snr)*(snr_all[:,l]>0)\n",
    "        snr_cut = (select_snr)*(snr_all[:,l]>0)\n",
    "        print(len(np.where(snr_cut)[0]))\n",
    "\n",
    "        n_train = 25*10**3 # size of data set I'm keeping\n",
    "\n",
    "        target_ids = data_train[\"TARGETID\"][snr_cut][:n_train]\n",
    "        fiber_ids = data_train[\"FIBER\"][snr_cut][:n_train]\n",
    "        petal_locs = data_train[\"PETAL_LOC\"][snr_cut][:n_train]\n",
    "        tile_ids = data_train[\"TILEID\"][snr_cut][:n_train]\n",
    "        zs = data_train[\"Z\"][snr_cut][:n_train]\n",
    "\n",
    "        coeffs_fastspec = data_train['CONTINUUM_COEFF_FASTSPEC'][snr_cut][:n_train]\n",
    "        AV_fastspec = data_train['CONTINUUM_AV_FASTSPEC'][snr_cut][:n_train]\n",
    "\n",
    "        coeffs_fastphot = data_train['CONTINUUM_COEFF_FASTPHOT'][snr_cut][:n_train]\n",
    "        AV_fastphot = data_train['CONTINUUM_AV_FASTPHOT'][snr_cut][:n_train]\n",
    "\n",
    "        line_ews=np.array(data_train[lines][snr_cut][:n_train])\n",
    "        line_ivars = np.array(data_train[lines_ivar][snr_cut][:n_train])\n",
    "\n",
    "        np.savez_compressed(server_paths[server]+\"target_selection/target_ids_selection\" + str(run) + \"_\" + str(lines[l]) + \".txt\", target_ids)\n",
    "        np.savez_compressed(server_paths[server]+\"target_selection/fiber_ids_selection\" + str(run) + \"_\" + str(lines[l]) + \".txt\", fiber_ids)\n",
    "        np.savez_compressed(server_paths[server]+\"target_selection/petal_locs_selection\" + str(run) + \"_\" + str(lines[l]) + \".txt\", petal_locs)\n",
    "        np.savez_compressed(server_paths[server]+\"target_selection/tile_ids_selection\" + str(run) + \"_\" + str(lines[l]) + \".txt\", tile_ids)\n",
    "        np.savez_compressed(server_paths[server]+\"target_selection/zs_selection\" + str(run) + \"_\" + str(lines[l]) + \".txt\", zs)\n",
    "        np.savez_compressed(server_paths[server]+\"target_selection/line_ews_selection\"+str(run)+\"_\" + str(lines[l]) + \".txt\", line_ews)\n",
    "        np.savez_compressed(server_paths[server]+\"target_selection/line_ivars_selection\"+str(run)+\"_\" + str(lines[l]) + \".txt\", line_ivars)\n",
    "\n",
    "        np.savez_compressed(server_paths[server]+\"target_selection/fastspec_coeffs_selection\" + str(run) + \"_\" + str(lines[l]) + \".txt\", coeffs_fastspec)\n",
    "        np.savez_compressed(server_paths[server]+\"target_selection/fastspec_AV_selection\" + str(run) + \"_\" + str(lines[l]) + \".txt\", AV_fastspec)\n",
    "\n",
    "        np.savez_compressed(server_paths[server]+\"target_selection/fastphot_coeffs_selection\" + str(run) + \"_\" + str(lines[l]) + \".txt\", coeffs_fastphot)\n",
    "        np.savez_compressed(server_paths[server]+\"target_selection/fastphot_AV_selection\" + str(run) + \"_\" + str(lines[l]) + \".txt\", AV_fastphot)"
   ]
  },
  {
   "cell_type": "code",
   "execution_count": 18,
   "id": "69492911-351f-459c-b6c0-fa28e89019f6",
   "metadata": {},
   "outputs": [
    {
     "name": "stdout",
     "output_type": "stream",
     "text": [
      "175903\n",
      "87951\n"
     ]
    }
   ],
   "source": [
    "print(select_size)\n",
    "print(len(data_train['TARGETID']))"
   ]
  },
  {
   "cell_type": "code",
   "execution_count": null,
   "id": "d3243db3-0845-408f-b1b2-a4ceed89282a",
   "metadata": {},
   "outputs": [],
   "source": []
  },
  {
   "cell_type": "code",
   "execution_count": 3,
   "id": "58eba21c-6c62-41ac-8100-5e7f66b4d9e0",
   "metadata": {},
   "outputs": [
    {
     "data": {
      "text/plain": [
       "['OII_DOUBLET_EW',\n",
       " 'HGAMMA_EW',\n",
       " 'HBETA_EW',\n",
       " 'OIII_4959_EW',\n",
       " 'OIII_5007_EW',\n",
       " 'NII_6548_EW',\n",
       " 'HALPHA_EW',\n",
       " 'NII_6584_EW',\n",
       " 'SII_6716_EW',\n",
       " 'SII_6731_EW']"
      ]
     },
     "execution_count": 3,
     "metadata": {},
     "output_type": "execute_result"
    }
   ],
   "source": [
    "lines"
   ]
  },
  {
   "cell_type": "code",
   "execution_count": 4,
   "id": "ff4beac0-1d6d-461f-bbfd-ab211f8f7e99",
   "metadata": {},
   "outputs": [
    {
     "data": {
      "text/plain": [
       "['OII_DOUBLET_EW',\n",
       " 'HGAMMA_EW',\n",
       " 'HBETA_EW',\n",
       " 'OIII_4959_EW',\n",
       " 'OIII_5007_EW',\n",
       " 'NII_6548_EW',\n",
       " 'HALPHA_EW',\n",
       " 'NII_6584_EW',\n",
       " 'SII_6716_EW']"
      ]
     },
     "execution_count": 4,
     "metadata": {},
     "output_type": "execute_result"
    }
   ],
   "source": [
    "lines[:-1]"
   ]
  },
  {
   "cell_type": "code",
   "execution_count": null,
   "id": "7aa1f8a1-7026-45a2-9923-bbc0c1ed4536",
   "metadata": {},
   "outputs": [],
   "source": []
  }
 ],
 "metadata": {
  "kernelspec": {
   "display_name": "myenv",
   "language": "python",
   "name": "myenv"
  },
  "language_info": {
   "codemirror_mode": {
    "name": "ipython",
    "version": 3
   },
   "file_extension": ".py",
   "mimetype": "text/x-python",
   "name": "python",
   "nbconvert_exporter": "python",
   "pygments_lexer": "ipython3",
   "version": "3.8.13"
  }
 },
 "nbformat": 4,
 "nbformat_minor": 5
}
