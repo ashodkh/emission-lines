{
 "cells": [
  {
   "cell_type": "code",
   "execution_count": 1,
   "id": "7d5c8924-393c-4025-bee7-f62b48aa30b5",
   "metadata": {},
   "outputs": [],
   "source": [
    "from astropy.io import fits\n",
    "from astropy.table import Table,join\n",
    "import numpy as np\n",
    "import pylab as plt\n",
    "import random\n",
    "from scipy import stats\n",
    "from sklearn.neighbors import KDTree\n",
    "import time\n",
    "from sklearn.metrics import mean_squared_error\n",
    "from tensorflow import keras\n",
    "from tensorflow.keras import layers\n",
    "from sklearn.ensemble import RandomForestClassifier\n",
    "from sklearn.preprocessing import StandardScaler"
   ]
  },
  {
   "cell_type": "code",
   "execution_count": 2,
   "id": "bf69c6a4-a404-4e2a-a24d-e55d352a1df0",
   "metadata": {},
   "outputs": [
    {
     "name": "stderr",
     "output_type": "stream",
     "text": [
      "WARNING: MergeConflictWarning: Cannot merge meta key 'EXTNAME' types <class 'str'> and <class 'str'>, choosing EXTNAME='FASTSPEC' [astropy.utils.metadata]\n",
      "WARNING: MergeConflictWarning: Cannot merge meta key 'EXTNAME' types <class 'str'> and <class 'str'>, choosing EXTNAME='FASTPHOT' [astropy.utils.metadata]\n",
      "/tmp/ipykernel_32535/2565242007.py:22: RuntimeWarning: divide by zero encountered in true_divide\n",
      "  data.add_column(1/(1/data[\"OII_3726_EW_IVAR\"]+1/data[\"OII_3729_EW_IVAR\"]),name='OII_DOUBLET_EW_IVAR')\n"
     ]
    }
   ],
   "source": [
    "## DATA ##\n",
    "## I'm combining fastphot,fastspect, and ztile to make sure I use the same data everywhere ##\n",
    "\n",
    "zall_path = \"/global/cfs/cdirs/desi/spectro/redux/fuji/zcatalog/ztile-sv1-bright-cumulative.fits\"\n",
    "data1 = Table.read(zall_path,hdu=1)\n",
    "needed1 = [\"TARGETID\", \"BGS_TARGET\", \"SPECTYPE\", \"DELTACHI2\", \"Z\", \"ZWARN\", \"FIBER\", \"PETAL_LOC\", \"TILEID\"]\n",
    "\n",
    "fastspec_path = \"/global/cfs/cdirs/desi/spectro/fastspecfit/fuji/catalogs/fastspec-fuji-sv1-bright.fits\"\n",
    "data2 = Table.read(fastspec_path,hdu=1)\n",
    "data2.rename_column('CONTINUUM_COEFF', 'CONTINUUM_COEFF_FASTSPEC')\n",
    "data2.rename_column('CONTINUUM_AV', 'CONTINUUM_AV_FASTSPEC')\n",
    "\n",
    "needed2 = [\"TARGETID\", \"OII_3726_EW\", \"OII_3729_EW\", \"HGAMMA_EW\", \"HBETA_EW\", \"OIII_4959_EW\", \"OIII_5007_EW\", \"NII_6548_EW\", \"HALPHA_EW\", \"NII_6584_EW\", \"SII_6716_EW\", \"SII_6731_EW\",\\\n",
    "           \"FLUX_SYNTH_G\", \"FLUX_SYNTH_R\", \"FLUX_SYNTH_Z\", 'CONTINUUM_COEFF_FASTSPEC', 'CONTINUUM_AV_FASTSPEC',\\\n",
    "           \"OII_3726_EW_IVAR\", \"OII_3729_EW_IVAR\", \"HGAMMA_EW_IVAR\", \"HBETA_EW_IVAR\", \"OIII_4959_EW_IVAR\", \"OIII_5007_EW_IVAR\", \"NII_6548_EW_IVAR\", \"HALPHA_EW_IVAR\", \"NII_6584_EW_IVAR\",\\\n",
    "           \"SII_6716_EW_IVAR\", \"SII_6731_EW_IVAR\"]\n",
    "\n",
    "\n",
    "fastphot_path = \"/global/cfs/cdirs/desi/spectro/fastspecfit/fuji/catalogs/fastphot-fuji-sv1-bright.fits\"\n",
    "data3 = Table.read(fastphot_path,hdu=1)\n",
    "data3.rename_column('CONTINUUM_COEFF', 'CONTINUUM_COEFF_FASTPHOT')\n",
    "data3.rename_column('CONTINUUM_AV', 'CONTINUUM_AV_FASTPHOT')\n",
    "\n",
    "needed3 = [\"TARGETID\", \"ABSMAG_SDSS_U\", \"ABSMAG_SDSS_G\", \"ABSMAG_SDSS_R\", \"ABSMAG_SDSS_I\", \"ABSMAG_SDSS_Z\", \"ABSMAG_W1\", 'CONTINUUM_COEFF_FASTPHOT', 'CONTINUUM_AV_FASTPHOT']\n",
    "\n",
    "data4 = join(data1[needed1], data2[needed2], keys=\"TARGETID\")\n",
    "data = join(data4, data3[needed3], keys=\"TARGETID\")\n",
    "\n",
    "N=len(data['TARGETID'])\n",
    "\n",
    "## Adding the sum of OII doublets to use them as a single line\n",
    "data.add_column(data[\"OII_3726_EW\"]+data[\"OII_3729_EW\"], name='OII_DOUBLET_EW')\n",
    "data.add_column(1/(data[\"OII_3726_EW_IVAR\"]+data[\"OII_3729_EW_IVAR\"]), name='OII_DOUBLET_EW_IVAR')"
   ]
  },
  {
   "cell_type": "code",
   "execution_count": 3,
   "id": "e815afd9-c1ed-41d5-9e71-9ecb032ff541",
   "metadata": {},
   "outputs": [],
   "source": [
    "## Selecting data and doing LLR to predict lines ##\n",
    "lines = [\"OII_DOUBLET_EW\",\"HGAMMA_EW\",\"HBETA_EW\",\"OIII_4959_EW\",\"OIII_5007_EW\",\"NII_6548_EW\",\"HALPHA_EW\"\\\n",
    "        ,\"NII_6584_EW\",\"SII_6716_EW\",\"SII_6731_EW\"]\n",
    "\n",
    "magnitude_names = [\"ABSMAG_SDSS_U\",\"ABSMAG_SDSS_G\",\"ABSMAG_SDSS_R\",\"ABSMAG_SDSS_I\",\"ABSMAG_SDSS_Z\"]\n",
    "\n",
    "N = len(data[\"TARGETID\"])\n",
    "snr_cut = 1 # signal to noise ratio cut\n",
    "\n",
    "\n",
    "# calculating snr for all lines\n",
    "snr_all = np.zeros([N,len(lines)])\n",
    "snr_all[:,0] = data[lines[0]]*np.sqrt(data[lines[0]+\"_IVAR\"])\n",
    "\n",
    "for i in range(1,len(lines)):\n",
    "    snr_all[:,i] = data[lines[i]]*np.sqrt(data[lines[i]+\"_IVAR\"])\n",
    "\n",
    "select_pos = snr_all[:,6]>=snr_cut\n",
    "select_neg = snr_all[:,6]<snr_cut\n",
    "\n",
    "y_all = np.zeros(N)\n",
    "y_all[select_pos] = 1\n",
    "\n",
    "\n",
    "n=25*10**3 # number of data points I want to use out of N"
   ]
  },
  {
   "cell_type": "code",
   "execution_count": 4,
   "id": "3b8fe352-6e76-4c7f-b51f-af7f2eeae424",
   "metadata": {},
   "outputs": [
    {
     "name": "stdout",
     "output_type": "stream",
     "text": [
      "795492\n",
      "293551\n"
     ]
    },
    {
     "data": {
      "image/png": "[encoded data removed]",
      "text/plain": [
       "<Figure size 432x288 with 1 Axes>"
      ]
     },
     "metadata": {
      "needs_background": "light"
     },
     "output_type": "display_data"
    }
   ],
   "source": [
    "plt.hist(y_all[:n])\n",
    "print(len(np.where(select_pos)[0]))\n",
    "print(len(np.where(select_neg)[0]))"
   ]
  },
  {
   "cell_type": "code",
   "execution_count": 6,
   "id": "0c21411f-f2ef-407d-9644-2c88a3579838",
   "metadata": {},
   "outputs": [
    {
     "name": "stderr",
     "output_type": "stream",
     "text": [
      "2022-08-08 17:27:25.243289: I tensorflow/compiler/jit/xla_cpu_device.cc:41] Not creating XLA devices, tf_xla_enable_xla_devices not set\n",
      "2022-08-08 17:27:25.243598: I tensorflow/core/platform/cpu_feature_guard.cc:142] This TensorFlow binary is optimized with oneAPI Deep Neural Network Library (oneDNN) to use the following CPU instructions in performance-critical operations:  SSE4.1 SSE4.2 AVX AVX2 FMA\n",
      "To enable them in other operations, rebuild TensorFlow with the appropriate compiler flags.\n",
      "2022-08-08 17:27:25.246252: I tensorflow/core/common_runtime/process_util.cc:146] Creating new thread pool with default inter op setting: 32. Tune using inter_op_parallelism_threads for best performance.\n",
      "2022-08-08 17:27:25.329113: I tensorflow/compiler/mlir/mlir_graph_optimization_pass.cc:116] None of the MLIR optimization passes are enabled (registered 2)\n",
      "2022-08-08 17:27:25.348160: I tensorflow/core/platform/profile_utils/cpu_utils.cc:112] CPU Frequency: 2300100000 Hz\n"
     ]
    },
    {
     "name": "stdout",
     "output_type": "stream",
     "text": [
      "180/180 [==============================] - 1s 2ms/step - loss: 0.6848 - binary_accuracy: 0.5612 - val_loss: 0.5682 - val_binary_accuracy: 0.8140\n",
      "180/180 [==============================] - 1s 3ms/step - loss: 0.6287 - binary_accuracy: 0.7895 - val_loss: 0.4960 - val_binary_accuracy: 0.7855\n",
      "180/180 [==============================] - 1s 3ms/step - loss: 0.5760 - binary_accuracy: 0.7891 - val_loss: 0.4408 - val_binary_accuracy: 0.7880\n",
      "180/180 [==============================] - 1s 3ms/step - loss: 0.6610 - binary_accuracy: 0.6376 - val_loss: 0.4913 - val_binary_accuracy: 0.7850\n",
      "180/180 [==============================] - 1s 3ms/step - loss: 0.6881 - binary_accuracy: 0.6017 - val_loss: 0.5814 - val_binary_accuracy: 0.7785\n",
      "180/180 [==============================] - 1s 3ms/step - loss: 0.4536 - binary_accuracy: 0.7920 - val_loss: 0.4306 - val_binary_accuracy: 0.7680\n",
      "180/180 [==============================] - 1s 2ms/step - loss: 0.6810 - binary_accuracy: 0.5486 - val_loss: 0.5023 - val_binary_accuracy: 0.7900\n",
      "180/180 [==============================] - 1s 3ms/step - loss: 0.6037 - binary_accuracy: 0.7860 - val_loss: 0.4523 - val_binary_accuracy: 0.7970\n",
      "180/180 [==============================] - 1s 2ms/step - loss: 0.6839 - binary_accuracy: 0.6009 - val_loss: 0.5613 - val_binary_accuracy: 0.7865\n",
      "180/180 [==============================] - 1s 3ms/step - loss: 0.6596 - binary_accuracy: 0.6849 - val_loss: 0.5297 - val_binary_accuracy: 0.7940\n",
      "[0.0, 0.0, 0.0, 0.0, 0.0, 0.0, 0.0, 0.0, 0.0, 0.0]\n"
     ]
    }
   ],
   "source": [
    "# which model\n",
    "m=4\n",
    "\n",
    "# calculating minimum redshift to have de-redshifted wavelengths be in the interval 3400,7000 A\n",
    "\n",
    "w1 = 3400\n",
    "w_min = 3600\n",
    "z_min = w_min/w1-1\n",
    "\n",
    "select = (data[\"SPECTYPE\"]==\"GALAXY\")*(data[\"DELTACHI2\"]>=25)*(data[\"Z\"]>z_min)*(data[\"Z\"]<0.3)*(data[\"ZWARN\"]==0)\n",
    "target_pos = np.where(select)[0][:n]\n",
    "\n",
    "magnitudes_s = data[magnitude_names][target_pos]  \n",
    "magnitudes = np.zeros([n,len(magnitude_names)])\n",
    "for j in range(len(magnitude_names)):\n",
    "    magnitudes[:,j] = magnitudes_s[magnitude_names[j]][:n]\n",
    "\n",
    "# Getting features as colors and regularizing them    \n",
    "#ones=np.ones([n,1])\n",
    "scalar = StandardScaler()\n",
    "x = np.zeros([n,len(magnitude_names)-1])\n",
    "for i in range(n):\n",
    "    for j in range(len(magnitude_names)-1):\n",
    "        x[i,j] = magnitudes[i,j]-magnitudes[i,j+1]\n",
    "x = scalar.fit_transform(x)\n",
    "        \n",
    "#x=np.concatenate((ones,x),axis=1)\n",
    "\n",
    "y = y_all[target_pos]\n",
    "\n",
    "N_cv = 10\n",
    "x_split = np.split(x, N_cv)\n",
    "y_split = np.split(y, N_cv)\n",
    "\n",
    "y_pred_all = []\n",
    "y_valid_all = []\n",
    "count_all = []\n",
    "for i in range(N_cv):\n",
    "    x_valid=x_split[i]\n",
    "    y_valid=y_split[i]\n",
    "    x_to_combine=[]\n",
    "    y_to_combine=[]\n",
    "    for j in range(N_cv):\n",
    "        if j!=i:\n",
    "            x_to_combine.append(x_split[j])\n",
    "            y_to_combine.append(y_split[j])\n",
    "    x_train=np.concatenate(tuple(x_to_combine),axis=0)\n",
    "    y_train=np.concatenate(tuple(y_to_combine),axis=0)\n",
    "    if m==0:\n",
    "        y_fit,zeros=LLR.LLR(x_valid, x_train, y_train, 100, 'inverse_distance')\n",
    "    if m==1:\n",
    "        model=RandomForestRegressor(n_estimators=200)\n",
    "        model.fit(x_train, y_train)\n",
    "        y_fit=model.predict(x_valid)\n",
    "    if m==2:\n",
    "        model=GradientBoostingRegressor(n_estimators=100)\n",
    "        model.fit(x_train, y_train)\n",
    "        y_fit=model.predict(x_valid)\n",
    "    if m==3:\n",
    "        model=xgb.XGBRegressor(n_estimators=1000, learning_rate=0.05)\n",
    "        model.fit(x_train, y_train, early_stopping_rounds=5, eval_set=[(x_valid,y_valid)], verbose=False)\n",
    "        y_fit=model.predict(x_valid)\n",
    "        print(model.best_ntree_limit)\n",
    "    if m==4:\n",
    "        model_input = layers.Input(shape=x.shape[1])\n",
    "        h1 = layers.Dense(units=100, kernel_initializer=\"he_normal\")(model_input)\n",
    "        a1 = layers.PReLU()(h1)\n",
    "        h2 = layers.Dense(units=100, kernel_initializer=\"he_normal\")(a1)\n",
    "        a2 = layers.PReLU()(h2)\n",
    "        h3 = layers.Dense(units=100, kernel_initializer=\"he_normal\")(a2)\n",
    "        a3 = layers.PReLU()(h3)\n",
    "        output_layer = layers.Dense(1, activation='linear')(a3)\n",
    "        model=keras.models.Model(inputs=model_input, outputs=output_layer)\n",
    "\n",
    "        model.compile(optimizer=keras.optimizers.Adam(learning_rate=1e-3), loss='mse', metrics='mse')\n",
    "\n",
    "        n_epochs = 100\n",
    "        batch_size = 100\n",
    "        history = model.fit(x_train, y_train, batch_size=batch_size, epochs=n_epochs, verbose=0, validation_data=(x_valid, y_valid))\n",
    "        y_fit = model.predict(x_valid)\n",
    "\n",
    "    if m==1:\n",
    "        model=RandomForestClassifier()\n",
    "        model.fit(x_train,y_train)\n",
    "        y_pred=model.predict(x_valid)\n",
    "        \n",
    "    if m==4:\n",
    "        model = keras.Sequential([\n",
    "            layers.Dense(4, activation='relu', input_dim=x.shape[1]),\n",
    "            layers.Dense(4, activation='relu'),    \n",
    "            layers.Dense(1, activation='sigmoid'),\n",
    "        ])\n",
    "\n",
    "        model.compile(optimizer='adam', loss='binary_crossentropy', metrics=['binary_accuracy']) \n",
    "        model.fit(x_train, y_train, validation_data=(x_valid,y_valid), batch_size=100)\n",
    "        y_pred=model.predict(x_valid).reshape(len(x_valid))\n",
    "\n",
    "    y_pred_all.append(y_pred)\n",
    "    y_valid_all.append(y_valid)\n",
    "    count=len(np.where(y_pred==y_valid)[0])\n",
    "    count_all.append(count/len(y_valid))\n",
    "   \n",
    "print(count_all)"
   ]
  },
  {
   "cell_type": "code",
   "execution_count": 7,
   "id": "6d7222b5-3a7e-475d-8b37-1f10eafe2b57",
   "metadata": {},
   "outputs": [
    {
     "data": {
      "text/plain": [
       "(array([ 86., 170., 195., 988., 355., 112.,  58.,  23.,  11.,   2.]),\n",
       " array([0.44063064, 0.48364866, 0.52666664, 0.5696846 , 0.6127026 ,\n",
       "        0.65572065, 0.69873863, 0.7417566 , 0.78477466, 0.82779264,\n",
       "        0.8708106 ], dtype=float32),\n",
       " <BarContainer object of 10 artists>)"
      ]
     },
     "execution_count": 7,
     "metadata": {},
     "output_type": "execute_result"
    },
    {
     "data": {
      "image/png": "[encoded data removed]",
      "text/plain": [
       "<Figure size 432x288 with 1 Axes>"
      ]
     },
     "metadata": {
      "needs_background": "light"
     },
     "output_type": "display_data"
    }
   ],
   "source": [
    "plt.figure(1)\n",
    "plt.hist(y_valid_all[0])\n",
    "plt.hist(y_pred_all[0])\n"
   ]
  },
  {
   "cell_type": "code",
   "execution_count": null,
   "id": "d1aa9864-e370-47b7-9b79-f109637200b1",
   "metadata": {},
   "outputs": [],
   "source": [
    "np.where(y_pred!=y_valid)"
   ]
  },
  {
   "cell_type": "code",
   "execution_count": null,
   "id": "07e8aba1-9945-4862-b41d-4fa3a8b63a86",
   "metadata": {},
   "outputs": [],
   "source": [
    "i=1064\n",
    "print(y_pred[i])\n",
    "print(y_valid[i])"
   ]
  },
  {
   "cell_type": "code",
   "execution_count": null,
   "id": "f4b1f521-b3e2-46dc-9fa0-555bab4148ef",
   "metadata": {},
   "outputs": [],
   "source": []
  }
 ],
 "metadata": {
  "kernelspec": {
   "display_name": "myenv",
   "language": "python",
   "name": "myenv"
  },
  "language_info": {
   "codemirror_mode": {
    "name": "ipython",
    "version": 3
   },
   "file_extension": ".py",
   "mimetype": "text/x-python",
   "name": "python",
   "nbconvert_exporter": "python",
   "pygments_lexer": "ipython3",
   "version": "3.8.13"
  }
 },
 "nbformat": 4,
 "nbformat_minor": 5
}
