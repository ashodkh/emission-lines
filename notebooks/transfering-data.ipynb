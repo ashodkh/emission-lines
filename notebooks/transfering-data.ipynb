{
 "cells": [
  {
   "cell_type": "code",
   "execution_count": 21,
   "metadata": {},
   "outputs": [],
   "source": [
    "import numpy as np\n",
    "import sys\n",
    "sys.path.append('../../../codes/emission_line_codes/')\n",
    "from importing_ews import *\n"
   ]
  },
  {
   "cell_type": "code",
   "execution_count": 22,
   "metadata": {},
   "outputs": [],
   "source": [
    "lines = [\"OII_DOUBLET\", \"HGAMMA\", \"HBETA\", \"OIII_4959\", \"OIII_5007\", \"NII_6548\",\\\n",
    "         \"HALPHA\", \"NII_6584\", \"SII_6716\", \"SII_6731\"]\n",
    "\n",
    "\n",
    "\n",
    "N_cv = 10\n",
    "l = 6\n",
    "run = 4\n",
    "sv = '3'\n",
    "scaling = 'sinh'\n",
    "\n",
    "data = ['raw_masked']\n",
    "#data = ['fastphot','raw_masked']\n",
    "m = [81]\n",
    "m_names = ['jax']\n",
    "data_stats = np.zeros([3, len(data), len(m), len(lines)])\n",
    "\n",
    "N = 13\n",
    "path_to_codes = r\"/Users/ASK126/Desktop/research/codes/emission_line_codes/\"\n",
    "\n",
    "EW_fit_all, EW_obs_all, y_fit_all, ivar_all, data_stats, _ = import_ews(N_bins=N, n = None, lines = lines, data = data, m = m, run = run, sv = sv, scaling = scaling, path_to_codes=path_to_codes, frac=1)\n",
    "\n",
    "target_ids = []\n",
    "redshifts = []\n",
    "b = []\n",
    "n_pre = []\n",
    "for l in range(len(lines)):\n",
    "    target_ids.append(np.load(path_to_codes + \"/target_selection/zero_fluxes_sv\" + sv + \"_TARGETID_selection\" + str(run) +\\\n",
    "                                  \"_\" + str(lines[l]) + '_bins' + str(N) + \".txt.npz\")[\"arr_0\"])\n",
    "    target_ids_pre = np.load(path_to_codes + \"/target_selection/sv\" + sv + \"_TARGETID_selection\" + str(run) +\\\n",
    "                                  \"_\" + str(lines[l]) + \".txt.npz\")[\"arr_0\"]\n",
    "    n_pre.append(len(target_ids_pre))\n",
    "    sorter = np.argsort(target_ids_pre)\n",
    "    b.append(sorter[np.searchsorted(target_ids_pre, target_ids[l], sorter=sorter)])\n",
    "    redshifts.append(np.load(path_to_codes + \"/target_selection/sv\" + sv + \"_Z_selection\" + str(run) +\\\n",
    "                                    \"_\" + str(lines[l]) + \".txt.npz\")[\"arr_0\"][b[l]])"
   ]
  },
  {
   "cell_type": "code",
   "execution_count": 23,
   "metadata": {},
   "outputs": [],
   "source": [
    "for l in range(len(lines)):\n",
    "    np.savez_compressed('../data/ews/sv3_obs_ews_'+lines[l], EW_obs_all[l][:,0,0])\n",
    "    np.savez_compressed('../data/ews/sv3_fit_ews_'+lines[l], EW_fit_all[l][:,0,0])\n",
    "    np.savez_compressed('../data/ews/sv3_ew_ivars_'+lines[l], ivar_all[l][:,0,0])\n",
    "    np.savez_compressed('../data/target_ids/sv3_target_ids_'+lines[l], target_ids[l])\n",
    "    np.savez_compressed('../data/redshifts/sv3_redshifts_'+lines[l], redshifts[l])\n",
    "\n",
    "for l in range(len(lines)):\n",
    "    number_of_decades = int(np.floor(n_pre[l]/10_000)) + 1\n",
    "    fluxes = []\n",
    "    for i in range(number_of_decades):\n",
    "        fluxes.append(np.load('../data/fluxes/sv3_fluxes_raw_masked'+str(i)+'_selection'+str(run)+'_'+lines[l]+'_bins'+str(N)+'.txt.npz')['arr_0'])\n",
    "    fluxes = np.concatenate(fluxes)\n",
    "    fluxes = fluxes[b[l],:]\n",
    "    np.savez_compressed('../data/fluxes/sv3_fluxes_masked_'+lines[l], fluxes)"
   ]
  }
 ],
 "metadata": {
  "kernelspec": {
   "display_name": "myenv",
   "language": "python",
   "name": "python3"
  },
  "language_info": {
   "codemirror_mode": {
    "name": "ipython",
    "version": 3
   },
   "file_extension": ".py",
   "mimetype": "text/x-python",
   "name": "python",
   "nbconvert_exporter": "python",
   "pygments_lexer": "ipython3",
   "version": "3.10.8"
  },
  "orig_nbformat": 4
 },
 "nbformat": 4,
 "nbformat_minor": 2
}
