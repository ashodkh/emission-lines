{
 "cells": [
  {
   "cell_type": "code",
   "execution_count": 1,
   "id": "ad63ce4a-bc9e-4295-83ee-5e1c703e947c",
   "metadata": {},
   "outputs": [
    {
     "name": "stderr",
     "output_type": "stream",
     "text": [
      "/global/homes/a/ashodkh/.conda/envs/myenv/lib/python3.8/site-packages/xgboost/compat.py:36: FutureWarning: pandas.Int64Index is deprecated and will be removed from pandas in a future version. Use pandas.Index with the appropriate dtype instead.\n",
      "  from pandas import MultiIndex, Int64Index\n"
     ]
    }
   ],
   "source": [
    "from astropy.io import fits\n",
    "from astropy.table import Table,join\n",
    "import numpy as np\n",
    "import pylab as plt\n",
    "import random\n",
    "from scipy import stats\n",
    "from sklearn.neighbors import KDTree\n",
    "import time\n",
    "from sklearn.metrics import mean_squared_error\n",
    "from desitarget.targetmask import desi_mask, bgs_mask, mws_mask\n",
    "from LLR import LLR\n",
    "from sklearn.ensemble import RandomForestRegressor\n",
    "from sklearn.ensemble import GradientBoostingRegressor\n",
    "from tensorflow import keras\n",
    "from tensorflow.keras import layers\n",
    "import xgboost as xgb\n",
    "from LLR import LLR\n",
    "from sklearn.preprocessing import StandardScaler\n",
    "from sklearn.model_selection import train_test_split\n",
    "from sklearn.gaussian_process import GaussianProcessRegressor\n",
    "from sklearn.gaussian_process.kernels import RBF, DotProduct\n",
    "plt.rcParams['figure.figsize'] = [25, 10]\n",
    "plt.rcParams.update({'font.size': 22})"
   ]
  },
  {
   "cell_type": "code",
   "execution_count": 2,
   "id": "5233512e-ab5a-4b69-8eb0-10db7ffc90ee",
   "metadata": {},
   "outputs": [],
   "source": [
    "def features_and_outcomes_classification(x_in, y_in, ivar, n_out, class_cut, l):\n",
    "    EWs = np.zeros([n_out,len(lines)])\n",
    "    for i in range(n_out):\n",
    "        for j in range(len(lines)):\n",
    "            EWs[i,j] = y_in[i][j]\n",
    "    \n",
    "    x_in = x_in[:n_out,:]\n",
    "    ones = np.ones([n_out,1])\n",
    "    scalar = StandardScaler()\n",
    "    x_out = np.zeros([n_out,x_in.shape[1]-1])\n",
    "    for j in range(x_in.shape[1]-1):\n",
    "        x_out[:,j] = x_in[:,j] - x_in[:,j+1]\n",
    "    x_out = scalar.fit_transform(x_out)\n",
    "    \n",
    "    if (m == 0 or m == 5):\n",
    "        x_out = np.concatenate((ones,x_out), axis=1)\n",
    "        \n",
    "    select_yes = (EWs[:,l]>=class_cut)\n",
    "    \n",
    "    y_out = np.zeros(n_out)\n",
    "    y_out[select_yes] = 1\n",
    "        \n",
    "    return x_out, y_out, ivar, EWs"
   ]
  },
  {
   "cell_type": "code",
   "execution_count": 3,
   "id": "d775ad49-d0c8-4b9e-8462-8704e465e973",
   "metadata": {},
   "outputs": [],
   "source": [
    "def predict(x, y, x_test, m):   \n",
    "    if m == 0:\n",
    "        y_fit, zeros = LLR.LLR(x_test, x, y, 100, 'inverse_distance')\n",
    "    if m == 1:\n",
    "        model = RandomForestRegressor(n_estimators=200)\n",
    "        model.fit(x_train, EW_train)\n",
    "        EW_fit = model.predict(x_valid)\n",
    "    if m == 2:\n",
    "        model = GradientBoostingRegressor(n_estimators=100)\n",
    "        model.fit(x_train, EW_train)\n",
    "        EW_fit = model.predict(x_valid)\n",
    "    if m == 3:\n",
    "        x_train, x_valid, y_train, y_valid = train_test_split(x, y, test_size=0.2)\n",
    "        model = xgb.XGBRegressor(n_estimators=1000, learning_rate=0.05)\n",
    "        model.fit(x_train, y_train, early_stopping_rounds=5, eval_set=[(x_valid,y_valid)], verbose=False)\n",
    "        y_fit = model.predict(x_test)\n",
    "        zeros = []\n",
    "        print(model.best_ntree_limit)\n",
    "    if m == 4:\n",
    "        x_train, x_valid, y_train, y_valid = train_test_split(x, y, test_size=0.2)\n",
    "        \n",
    "        model_input = layers.Input(shape=x.shape[1])\n",
    "        h1 = layers.Dense(units=100, kernel_initializer=\"he_normal\")(model_input)\n",
    "        a1 = layers.PReLU()(h1)\n",
    "        h2 = layers.Dense(units=100, kernel_initializer=\"he_normal\")(a1)\n",
    "        a2 = layers.PReLU()(h2)\n",
    "        h3 = layers.Dense(units=100, kernel_initializer=\"he_normal\")(a2)\n",
    "        a3 = layers.PReLU()(h3)\n",
    "        output_layer = layers.Dense(1, activation='linear')(a3)\n",
    "        model = keras.models.Model(inputs=model_input, outputs=output_layer)\n",
    "\n",
    "        model.compile(optimizer=keras.optimizers.Adam(learning_rate=1e-3), loss='mse', metrics='mse')\n",
    "\n",
    "        n_epochs = 100\n",
    "        batch_size = 100\n",
    "        history = model.fit(x_train, y_train, batch_size=batch_size, epochs=n_epochs, verbose=0, validation_data=(x_valid, y_valid))\n",
    "        y_fit = model.predict(x_test).reshape(-1)\n",
    "        zeros = []\n",
    "\n",
    "    if m == 5:\n",
    "        y_fit, zeros = LLR.LLR(x_test, x, y, 500, 'inverse_distance')\n",
    "\n",
    "    if m ==6:\n",
    "        kernel = DotProduct()\n",
    "        gpr = GaussianProcessRegressor(kernel=kernel)\n",
    "        gpr.fit(x, EW)\n",
    "        EW_fit = gpr.predict(x_test)\n",
    "\n",
    "    return y_fit, zeros\n"
   ]
  },
  {
   "cell_type": "code",
   "execution_count": 4,
   "id": "0e6e3dfc-6f65-4a2b-a3e3-e6d1f19a1556",
   "metadata": {},
   "outputs": [
    {
     "name": "stdout",
     "output_type": "stream",
     "text": [
      "66\n"
     ]
    },
    {
     "name": "stderr",
     "output_type": "stream",
     "text": [
      "2022-09-05 11:47:01.089271: I tensorflow/compiler/jit/xla_cpu_device.cc:41] Not creating XLA devices, tf_xla_enable_xla_devices not set\n",
      "2022-09-05 11:47:01.089909: I tensorflow/core/platform/cpu_feature_guard.cc:142] This TensorFlow binary is optimized with oneAPI Deep Neural Network Library (oneDNN) to use the following CPU instructions in performance-critical operations:  SSE4.1 SSE4.2 AVX AVX2 FMA\n",
      "To enable them in other operations, rebuild TensorFlow with the appropriate compiler flags.\n",
      "2022-09-05 11:47:01.093065: I tensorflow/core/common_runtime/process_util.cc:146] Creating new thread pool with default inter op setting: 32. Tune using inter_op_parallelism_threads for best performance.\n",
      "2022-09-05 11:47:01.219540: I tensorflow/compiler/mlir/mlir_graph_optimization_pass.cc:116] None of the MLIR optimization passes are enabled (registered 2)\n",
      "2022-09-05 11:47:01.241126: I tensorflow/core/platform/profile_utils/cpu_utils.cc:112] CPU Frequency: 2300045000 Hz\n"
     ]
    }
   ],
   "source": [
    "server = 1 # 0 is perlmutter, 1 is cori\n",
    "server_paths = ['/pscratch/sd/a/ashodkh/', '/global/cscratch1/sd/ashodkh/']\n",
    "\n",
    "\n",
    "## Selecting data and doing LLR to predict lines ##\n",
    "lines = [\"OII_DOUBLET_EW\",\"HGAMMA_EW\",\"HBETA_EW\",\"OIII_4959_EW\",\"OIII_5007_EW\",\"NII_6548_EW\",\"HALPHA_EW\"\\\n",
    "         ,\"NII_6584_EW\",\"SII_6716_EW\",\"SII_6731_EW\"]\n",
    "\n",
    "magnitude_names = [\"ABSMAG_SDSS_U\", \"ABSMAG_SDSS_G\", \"ABSMAG_SDSS_R\", \"ABSMAG_SDSS_I\", \"ABSMAG_SDSS_Z\", 'ABSMAG_W1']\n",
    " \n",
    "#parameters\n",
    "N = 6\n",
    "run_train = 0\n",
    "run_test = 1\n",
    "#m = 0           # model index. 0 is LLR, 1 is RandomForest, 2 is GradientBoosting from sklearn, 3 is XGboost, 4 is neural network\n",
    "n_train = 25*10**3\n",
    "n_test = 20*10**3\n",
    "l = 6\n",
    "magnitudes_train = np.zeros([n_train, len(magnitude_names)])\n",
    "magnitudes_test = np.zeros([n_test, len(magnitude_names)])\n",
    "for i in range(len(magnitude_names)):\n",
    "    magnitudes_train[:,i] = np.load(server_paths[server]+\"target_selection/\" + magnitude_names[i] + \"_selection\" + str(run_train) + \"_\" + str(lines[l]) + \".txt.npz\")['arr_0']\n",
    "    magnitudes_test[:,i] = np.load(server_paths[server]+\"target_selection/\" + magnitude_names[i] + \"_selection\" + str(run_test) + \"_test.txt.npz\")['arr_0']\n",
    "\n",
    "zs_train = np.load(server_paths[server] + \"target_selection/zs_selection\" + str(run_train) + \"_\" + str(lines[l]) + \".txt.npz\")[\"arr_0\"]\n",
    "target_lines_train = np.load(server_paths[server] + \"target_selection/line_ews_selection\" + str(run_train) + \"_\" + str(lines[l]) + \".txt.npz\")[\"arr_0\"]\n",
    "line_ivars_train = np.load(server_paths[server] + \"target_selection/line_ivars_selection\" + str(run_train) + \"_\" + str(lines[l]) + \".txt.npz\")[\"arr_0\"]\n",
    "zs_test = np.load(server_paths[server] + \"target_selection/zs_selection\" + str(run_test) + \"_test.txt.npz\")[\"arr_0\"]\n",
    "target_lines_test = np.load(server_paths[server] + \"target_selection/line_ews_selection\" + str(run_test) + \"_test.txt.npz\")[\"arr_0\"]\n",
    "line_ivars_test = np.load(server_paths[server] + \"target_selection/line_ivars_selection\" + str(run_test) + \"_test.txt.npz\")[\"arr_0\"]\n",
    "\n",
    "n_train = 23*10**3\n",
    "n_test = 18*10**3\n",
    "\n",
    "\n",
    "\n",
    "    \n",
    "m_j = [3,4]\n",
    "y_fit_j = np.zeros([n_test,len(m_j)])\n",
    "for j in range(len(m_j)):\n",
    "    m = m_j[j]\n",
    "    x, y, ivar, EW = features_and_outcomes_classification(magnitudes_train, target_lines_train, line_ivars_train, int(n_train), class_cut=3, l=6)\n",
    "    x_test, y_test, ivar_test, EW_test = features_and_outcomes_classification(magnitudes_test, target_lines_test, line_ivars_test, int(n_test), class_cut=3, l=6)\n",
    "    \n",
    "    # predicting EWs using different models\n",
    "    y_fit, zeros = predict(x, y, x_test, m)\n",
    "    # calculating meaningful stats for classification like false positive number, false positive rates, etc...\n",
    "\n",
    "    y_fit_j[:,j] = y_fit[:]\n",
    "\n",
    "# np.savez_compressed(server_paths[server] + \"ew_results/ugriz/m\" +str(m)+ \"/test_logEW_fit_ugriz_selection\"+str(run_train)+\"_line\"+str(lines[l])+\"_bins\"+str(N)\\\n",
    "#                         +\"_ML\"+str(m)+\".txt\", EW_fit)\n",
    "# np.savez_compressed(server_paths[server] + \"ew_results/ugriz/m\" +str(m)+ \"/test_EW_obs_ugriz_selection\"+str(run_train)+\"_line\"+str(lines[l])+\"_bins\"+str(N)\\\n",
    "#                         +\"_ML\"+str(m)+\".txt\", EW_test)\n",
    "# np.savez_compressed(server_paths[server] + \"ew_results/ugriz/m\" +str(m)+ \"/test_line_ivars_ugriz_selection\"+str(run_train)+\"_line\"+str(lines[l])+\"_bins\"+str(N)\\\n",
    "#                         +\"_ML\"+str(m)+\".txt\", ivar_test)\n",
    "\n"
   ]
  },
  {
   "cell_type": "code",
   "execution_count": 5,
   "id": "ed8e7d38-fb01-4c57-9f20-fa9d445bdc50",
   "metadata": {},
   "outputs": [],
   "source": [
    "threshold = np.arange(0, 1.01, 0.01)\n",
    "nt = len(threshold)\n",
    "tpr = np.zeros([nt,len(m_j)])\n",
    "tnr = np.zeros([nt,len(m_j)])\n",
    "fpr = np.zeros([nt,len(m_j)])\n",
    "\n",
    "for j in range(len(m_j)):\n",
    "    for i in range(nt):\n",
    "        y_fit_01 = np.zeros(n_test)\n",
    "        y_fit_01[y_fit_j[:,j]>threshold[i]] = 1\n",
    "\n",
    "        tp = sum(y_test*y_fit_01)\n",
    "        fp = sum(np.logical_not(y_test)*y_fit_01)\n",
    "        tn = sum(np.logical_not(y_test)*(np.logical_not(y_fit_01)))\n",
    "        fn = sum(y_test*(np.logical_not(y_fit_01)))\n",
    "\n",
    "        tpr[i,j] = tp/(tp+fn)\n",
    "        tnr[i,j] = tn/(tn+fp)\n",
    "        fpr[i,j] = fp/(fp+tn)"
   ]
  },
  {
   "cell_type": "code",
   "execution_count": 11,
   "id": "00ac41a4-7772-4e1a-89c4-55833d8c68eb",
   "metadata": {},
   "outputs": [
    {
     "name": "stdout",
     "output_type": "stream",
     "text": [
      "0.27723311546840956\n",
      "0.9725037537537538\n"
     ]
    }
   ],
   "source": [
    "i = 70\n",
    "print(fpr[i,0])\n",
    "print(tpr[i,0])"
   ]
  },
  {
   "cell_type": "code",
   "execution_count": 6,
   "id": "6c4205ed-e81f-4c41-a847-192244e8d8e1",
   "metadata": {},
   "outputs": [
    {
     "ename": "IndexError",
     "evalue": "index 2 is out of bounds for axis 1 with size 2",
     "output_type": "error",
     "traceback": [
      "\u001b[0;31m---------------------------------------------------------------------------\u001b[0m",
      "\u001b[0;31mIndexError\u001b[0m                                Traceback (most recent call last)",
      "Input \u001b[0;32mIn [6]\u001b[0m, in \u001b[0;36m<cell line: 3>\u001b[0;34m()\u001b[0m\n\u001b[1;32m      3\u001b[0m \u001b[38;5;28;01mfor\u001b[39;00m i \u001b[38;5;129;01min\u001b[39;00m \u001b[38;5;28mrange\u001b[39m(\u001b[38;5;241m3\u001b[39m):\n\u001b[1;32m      4\u001b[0m     plt\u001b[38;5;241m.\u001b[39mfigure(\u001b[38;5;241m1\u001b[39m)\n\u001b[0;32m----> 5\u001b[0m     plt\u001b[38;5;241m.\u001b[39mplot(\u001b[43mfpr\u001b[49m\u001b[43m[\u001b[49m\u001b[43m:\u001b[49m\u001b[43m,\u001b[49m\u001b[43mi\u001b[49m\u001b[43m]\u001b[49m, tpr[:,i], color\u001b[38;5;241m=\u001b[39mm_colors[i], label \u001b[38;5;241m=\u001b[39m m_names[i])\n\u001b[1;32m      6\u001b[0m     plt\u001b[38;5;241m.\u001b[39mplot(fpr[\u001b[38;5;241m0\u001b[39m,i], tpr[\u001b[38;5;241m0\u001b[39m,i], \u001b[38;5;124m'\u001b[39m\u001b[38;5;124mo\u001b[39m\u001b[38;5;124m'\u001b[39m, markersize\u001b[38;5;241m=\u001b[39m\u001b[38;5;241m20\u001b[39m, color\u001b[38;5;241m=\u001b[39mm_colors[i], label \u001b[38;5;241m=\u001b[39m \u001b[38;5;124m'\u001b[39m\u001b[38;5;124mthreshold= \u001b[39m\u001b[38;5;124m'\u001b[39m\u001b[38;5;241m+\u001b[39m\u001b[38;5;28mstr\u001b[39m(threshold[\u001b[38;5;241m0\u001b[39m]))\n\u001b[1;32m      7\u001b[0m     plt\u001b[38;5;241m.\u001b[39mplot(fpr[\u001b[38;5;241m-\u001b[39m\u001b[38;5;241m1\u001b[39m,i], tpr[\u001b[38;5;241m-\u001b[39m\u001b[38;5;241m1\u001b[39m,i], \u001b[38;5;124m'\u001b[39m\u001b[38;5;124m^\u001b[39m\u001b[38;5;124m'\u001b[39m, markersize\u001b[38;5;241m=\u001b[39m\u001b[38;5;241m20\u001b[39m, color\u001b[38;5;241m=\u001b[39mm_colors[i], label \u001b[38;5;241m=\u001b[39m \u001b[38;5;124m'\u001b[39m\u001b[38;5;124mthreshold= \u001b[39m\u001b[38;5;124m'\u001b[39m\u001b[38;5;241m+\u001b[39m\u001b[38;5;28mstr\u001b[39m(threshold[\u001b[38;5;241m-\u001b[39m\u001b[38;5;241m1\u001b[39m]))\n",
      "\u001b[0;31mIndexError\u001b[0m: index 2 is out of bounds for axis 1 with size 2"
     ]
    },
    {
     "data": {
      "image/png": "[encoded data removed]",
      "text/plain": [
       "<Figure size 1800x720 with 1 Axes>"
      ]
     },
     "metadata": {
      "needs_background": "light"
     },
     "output_type": "display_data"
    }
   ],
   "source": [
    "m_names = ['LLR 100', 'LLR 800', 'XGBoost']\n",
    "m_colors = ['g', 'b', 'r']\n",
    "for i in range(3):\n",
    "    plt.figure(1)\n",
    "    plt.plot(fpr[:,i], tpr[:,i], color=m_colors[i], label = m_names[i])\n",
    "    plt.plot(fpr[0,i], tpr[0,i], 'o', markersize=20, color=m_colors[i], label = 'threshold= '+str(threshold[0]))\n",
    "    plt.plot(fpr[-1,i], tpr[-1,i], '^', markersize=20, color=m_colors[i], label = 'threshold= '+str(threshold[-1]))\n",
    "plt.xlabel('false posistive rate')\n",
    "plt.ylabel('true positive rate')\n",
    "plt.legend()"
   ]
  },
  {
   "cell_type": "code",
   "execution_count": null,
   "id": "5cf4c2b2-0f0e-4df7-8f31-d0ae47e909d2",
   "metadata": {},
   "outputs": [],
   "source": []
  },
  {
   "cell_type": "code",
   "execution_count": null,
   "id": "dcb9028b-9c61-4ab8-8fd8-b64e0a779a07",
   "metadata": {},
   "outputs": [],
   "source": [
    "plt.hist(y_fit, bins=100)"
   ]
  },
  {
   "cell_type": "code",
   "execution_count": null,
   "id": "23abacab-10dc-4104-8d0b-ac13fee4aeb4",
   "metadata": {},
   "outputs": [],
   "source": [
    "plt.hist(y_test,bins=100)"
   ]
  },
  {
   "cell_type": "code",
   "execution_count": null,
   "id": "ab2d5c13-1a55-46df-9fcc-713de26a79ba",
   "metadata": {},
   "outputs": [],
   "source": [
    "plt.figure(1)\n",
    "plt.plot(fpr0, tpr0, '*', label='LLR 100')\n",
    "plt.plot(fpr5, tpr5, '*', label='LLR 800')\n",
    "plt.plot(fpr6, tpr6, '*', label='XGboost')\n",
    "plt.xlabel('false positive rate')\n",
    "plt.ylabel('true positive rate')\n",
    "plt.legend()"
   ]
  },
  {
   "cell_type": "code",
   "execution_count": null,
   "id": "2b8785d2-a9c8-4941-9386-e4279d0e487f",
   "metadata": {},
   "outputs": [],
   "source": [
    "plt.hist(EW[:,6], range=(0,100), bins=100)"
   ]
  },
  {
   "cell_type": "code",
   "execution_count": null,
   "id": "2e29a45d-26e8-4553-af38-9166885208f7",
   "metadata": {},
   "outputs": [],
   "source": [
    "plt.hist(EW_test[:,6], range=(0,100), bins=100)"
   ]
  },
  {
   "cell_type": "code",
   "execution_count": null,
   "id": "2428e571-14e6-4a9b-bf9c-6fd2ad5e1386",
   "metadata": {},
   "outputs": [],
   "source": []
  }
 ],
 "metadata": {
  "kernelspec": {
   "display_name": "myenv",
   "language": "python",
   "name": "myenv"
  },
  "language_info": {
   "codemirror_mode": {
    "name": "ipython",
    "version": 3
   },
   "file_extension": ".py",
   "mimetype": "text/x-python",
   "name": "python",
   "nbconvert_exporter": "python",
   "pygments_lexer": "ipython3",
   "version": "3.8.13"
  }
 },
 "nbformat": 4,
 "nbformat_minor": 5
}
